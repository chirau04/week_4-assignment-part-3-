{
 "cells": [
  {
   "cell_type": "code",
   "execution_count": 7,
   "id": "d42d5275-05c0-47e3-a760-4540cf19a3fe",
   "metadata": {},
   "outputs": [],
   "source": [
    "class Animal:\n",
    "    def __init__(self,name,species):\n",
    "        self.name = name\n",
    "        self.species = species"
   ]
  },
  {
   "cell_type": "code",
   "execution_count": 8,
   "id": "be2a036e-272b-4829-9352-60ff3478a30a",
   "metadata": {},
   "outputs": [],
   "source": [
    "def make_sound(self):\n",
    "    pass"
   ]
  },
  {
   "cell_type": "code",
   "execution_count": 9,
   "id": "f16a5c4f-f1b9-4f23-ba5f-5104b0bdff5d",
   "metadata": {},
   "outputs": [],
   "source": [
    "def move(self):\n",
    "    pass"
   ]
  },
  {
   "cell_type": "code",
   "execution_count": 10,
   "id": "078c3c80-4d73-4da3-b4fb-ab99d5e3ca3d",
   "metadata": {},
   "outputs": [],
   "source": [
    "class Lion(Animal):\n",
    "    def make_sound(self):\n",
    "        return\"Roar\"\n",
    "    \n",
    "    def move(self):\n",
    "        return \"Walks on four legs\""
   ]
  },
  {
   "cell_type": "code",
   "execution_count": 11,
   "id": "5f13af1a-0fd8-4e82-8e34-d7e23b9c99d2",
   "metadata": {},
   "outputs": [],
   "source": [
    "class Elephant(Animal):\n",
    "    def make_sound(self):\n",
    "        return\"Trumpet\"\n",
    "    \n",
    "    def move(self):\n",
    "        return \"Walks on four legs\""
   ]
  },
  {
   "cell_type": "code",
   "execution_count": 17,
   "id": "83acbda9-f4e7-4cf8-b830-375e1a1cc093",
   "metadata": {},
   "outputs": [],
   "source": [
    "class Zebra(Animal):\n",
    "    def make_sound(self):\n",
    "        return \"Neigh\"\n",
    "    \n",
    "    def move(self):\n",
    "        return \"Runs on four legs\""
   ]
  },
  {
   "cell_type": "markdown",
   "id": "1fcaa08f-e367-4727-b753-8dda14b71ac5",
   "metadata": {},
   "source": [
    "# Abstraction"
   ]
  },
  {
   "cell_type": "code",
   "execution_count": 19,
   "id": "60b021e3-1152-417f-8959-11c08bb733ed",
   "metadata": {},
   "outputs": [],
   "source": [
    "class BankAccount:\n",
    "    def __init__(self,account_number,  balance):\n",
    "        self.account_number = account_number\n",
    "        self.balance = balance"
   ]
  },
  {
   "cell_type": "code",
   "execution_count": 20,
   "id": "736abf23-fafa-476a-bc3a-d639ae2b887b",
   "metadata": {},
   "outputs": [],
   "source": [
    "def deposit(self,amount):\n",
    "    pass"
   ]
  },
  {
   "cell_type": "code",
   "execution_count": 21,
   "id": "d1399858-3882-4bb6-9afc-e88475998010",
   "metadata": {},
   "outputs": [],
   "source": [
    "def withdraw(self,amount):\n",
    "    pass"
   ]
  },
  {
   "cell_type": "markdown",
   "id": "3c815cc5-9360-4f17-9f04-5ff402d5ee87",
   "metadata": {},
   "source": [
    "# Encapsulation"
   ]
  },
  {
   "cell_type": "code",
   "execution_count": 22,
   "id": "7571b5a9-3984-41e4-b811-4f7931f4a486",
   "metadata": {},
   "outputs": [],
   "source": [
    "class BankAccount:\n",
    "    def __init__(self,account_number, balance):\n",
    "        self._account_number = account_number"
   ]
  },
  {
   "cell_type": "markdown",
   "id": "589249e2-b403-4095-baef-3e3f5272aae1",
   "metadata": {},
   "source": [
    "# Encapsulation with a private attribute "
   ]
  },
  {
   "cell_type": "code",
   "execution_count": 31,
   "id": "5d096cce-213b-4a0f-bfb7-8bdf42f31c52",
   "metadata": {},
   "outputs": [
    {
     "ename": "NameError",
     "evalue": "name 'balance' is not defined",
     "output_type": "error",
     "traceback": [
      "\u001b[0;31m---------------------------------------------------------------------------\u001b[0m",
      "\u001b[0;31mNameError\u001b[0m                                 Traceback (most recent call last)",
      "Cell \u001b[0;32mIn[31], line 1\u001b[0m\n\u001b[0;32m----> 1\u001b[0m \u001b[38;5;28mself\u001b[39m\u001b[38;5;241m.\u001b[39m_balance \u001b[38;5;241m=\u001b[39m \u001b[43mbalance\u001b[49m\n\u001b[1;32m      3\u001b[0m \u001b[38;5;28;01mdef\u001b[39;00m \u001b[38;5;21mdeposit\u001b[39m(\u001b[38;5;28mself\u001b[39m,amount):\n\u001b[1;32m      4\u001b[0m     \u001b[38;5;28mself\u001b[39m\u001b[38;5;241m.\u001b[39m_balance \u001b[38;5;241m+\u001b[39m\u001b[38;5;241m=\u001b[39m balance\n",
      "\u001b[0;31mNameError\u001b[0m: name 'balance' is not defined"
     ]
    }
   ],
   "source": [
    "self._balance = balance\n",
    "\n",
    "def deposit(self,amount):\n",
    "    self._balance += balance\n",
    "def withdraw(self,amount):\n",
    "        if amount<=self._balance:\n",
    "            self._balance -= amount\n",
    "        else:\n",
    "            print(\"insufficient funds\")\n",
    "            \n",
    "def get_balance(self):\n",
    "    return self._balance"
   ]
  },
  {
   "cell_type": "markdown",
   "id": "9f896359-a658-4cd3-a38c-210529dc5cee",
   "metadata": {},
   "source": [
    "#The abc module in python stands for \"Abstract Base Classes.\" \n",
    "it provides a way to define abstract base classes and abstract methods, which are useful for creatinfg a common interface that subclasses must adhere to. This helps in enforcinga certain structure in derived classes, making the code more robust and maintainable. \n",
    "its paricularly useful for creating frameworks and libraries where you want to ensure that certain methods are implemented by subclasses. "
   ]
  },
  {
   "cell_type": "markdown",
   "id": "d227396d-e8d3-4ed6-82e9-ae62ec2edb34",
   "metadata": {},
   "source": [
    "#Data abstraction can be achieved through techniques like encapsulation and abstraction mechanisms in programming languages.\n",
    "Encapsulation involves bundling data and methods that operate on the data intoa single unit, typically a class in object-oriented programming. Abstraction on the other hand, involves simplifying complex systems by modeling classes based on relevant characteristics and ignoring unnecessary details. "
   ]
  },
  {
   "cell_type": "markdown",
   "id": "3c4d97aa-6c4a-4d76-8692-32cb6280e819",
   "metadata": {},
   "source": [
    "#No, we cannot create an instance of and abstract class directly. abstract classes are meant to be subclassed, and their abstract methods must be implemented by concrete(non-abstract) subclasses. \n",
    "instances of abstract classes are instantiated through their concrete sublasses. "
   ]
  },
  {
   "cell_type": "code",
   "execution_count": null,
   "id": "97d0ebc6-bf79-47de-be17-77a684f12a13",
   "metadata": {},
   "outputs": [],
   "source": []
  }
 ],
 "metadata": {
  "kernelspec": {
   "display_name": "Python 3 (ipykernel)",
   "language": "python",
   "name": "python3"
  },
  "language_info": {
   "codemirror_mode": {
    "name": "ipython",
    "version": 3
   },
   "file_extension": ".py",
   "mimetype": "text/x-python",
   "name": "python",
   "nbconvert_exporter": "python",
   "pygments_lexer": "ipython3",
   "version": "3.10.8"
  }
 },
 "nbformat": 4,
 "nbformat_minor": 5
}
